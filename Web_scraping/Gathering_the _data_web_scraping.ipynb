{
 "cells": [
  {
   "cell_type": "code",
   "execution_count": 2,
   "id": "4ca5d3f0",
   "metadata": {},
   "outputs": [],
   "source": [
    "import pandas as pd\n",
    "import requests\n",
    "from bs4 import BeautifulSoup as Be #for web scraping purpose"
   ]
  },
  {
   "cell_type": "code",
   "execution_count": 3,
   "id": "323e0b9c",
   "metadata": {},
   "outputs": [],
   "source": [
    "headers = {'User-Agent': 'Mozilla/5.0 (Windows NT 6.3; Win64; x64) AppleWebKit/537.36 (KHTML, like Gecko) Chrome/80.0.3987.162 Safari/537.36'}\n",
    "url = 'https://www.ambitionbox.com/list-of-companies?sortBy=popular&page={}'  # Remove the space between `pages=` and `4`\n",
    "webPage = requests.get(url, headers = headers).text"
   ]
  },
  {
   "cell_type": "code",
   "execution_count": 4,
   "id": "118b005d",
   "metadata": {},
   "outputs": [],
   "source": [
    "soup = Be(webPage, 'lxml')"
   ]
  },
  {
   "cell_type": "code",
   "execution_count": 5,
   "id": "811e2ef6",
   "metadata": {},
   "outputs": [],
   "source": [
    "# soup.find_all('h2') #list of all the items of h2 \n",
    "# # strip to remove the formatting of the h2 tag\n",
    "# companies = []\n",
    "# for i in soup.find_all('h2', class_ = 'companyCardWrapper__companyName'): \n",
    "#     companies.append(i.text)\n",
    "# len(soup.find_all('h2', class_ = 'companyCardWrapper__companyName'))"
   ]
  },
  {
   "cell_type": "code",
   "execution_count": 6,
   "id": "88e7b765",
   "metadata": {},
   "outputs": [],
   "source": [
    "# Rating = []\n",
    "# for i in soup.find_all('span', class_ = 'companyCardWrapper__companyRatingValue'):\n",
    "#     Rating.append(i.text)\n",
    "    \n",
    "# len(soup.find_all('span', class_ = 'companyCardWrapper__companyRatingValue'))"
   ]
  },
  {
   "cell_type": "code",
   "execution_count": 7,
   "id": "a115446d",
   "metadata": {},
   "outputs": [],
   "source": [
    "# Reviews = []\n",
    "# for i in soup.find_all('span', class_ = 'companyCardWrapper__ActionCount'):\n",
    "#     Reviews.append(i.text)\n",
    "    \n",
    "# len(soup.find_all('span', class_ = 'companyCardWrapper__ActionCount'))\n",
    "# Reviews"
   ]
  },
  {
   "cell_type": "markdown",
   "id": "096d1276",
   "metadata": {},
   "source": [
    "# Fetching the Data of all the companies in form of blocks first then gettting all the information one by one\n"
   ]
  },
  {
   "cell_type": "code",
   "execution_count": 8,
   "id": "4f2410b5",
   "metadata": {},
   "outputs": [],
   "source": [
    "get = soup.find_all('div', class_ = 'companyCardWrapper')"
   ]
  },
  {
   "cell_type": "code",
   "execution_count": 9,
   "id": "eb08f9c0",
   "metadata": {},
   "outputs": [],
   "source": [
    "name = []\n",
    "rating = []\n",
    "about = []\n",
    "sec =[]\n",
    "Location = []\n",
    "Employes = []\n",
    "Age = []\n",
    "domain=[]\n",
    "for i in soup.find_all('div', class_ = 'companyCardWrapper'):\n",
    "    company_name = i.find_all('h2', class_ = 'companyCardWrapper__companyName')\n",
    "    name.append(company_name[0].text.strip())\n",
    "    rating_value = i.find_all('span', class_ = 'companyCardWrapper__companyRatingValue')\n",
    "    rating.append(rating_value[0].text)\n",
    "    info = i.find_all('span', class_ = 'companyCardWrapper__interLinking')\n",
    "    about.append(info[0].text.strip())\n",
    "    \n",
    "for item in about:\n",
    "    parts = item.split('|')\n",
    "    if len(parts) >= 5:  \n",
    "        domain.append(parts[0].strip()) \n",
    "        Employes.append(parts[1].strip())  \n",
    "        sec.append(parts[2].strip())  \n",
    "        Age.append(parts[3].strip())  \n",
    "        Location.append(parts[4].strip())  \n",
    "    else:\n",
    "        domain.append(parts[0].strip())  \n",
    "        Employes.append(parts[1].strip()) \n",
    "        Age.append(parts[2].strip())  \n",
    "        Location.append(parts[3].strip())  \n",
    "        sec.append('None')  \n",
    "for names in name:\n",
    "        url = 'https://www.google.com/search?q={}+about'.format(names)\n",
    "        webPage = requests.get(url, headers = headers).text\n",
    "        s = Be(webPage, 'lxml')\n",
    "        for m in s.find_all('div', class_= 'I6TXqe'):\n",
    "            div = m.find_all('a', class_= 'f1')\n",
    "            print(div)\n",
    "            \n",
    "d = {'Comapany_name': name, 'Rating': rating, 'Sector':sec, 'Domain':domain,'Employees':Employes,'Age':Age, 'Location':Location}\n",
    "df = pd.DataFrame(d) "
   ]
  },
  {
   "cell_type": "code",
   "execution_count": 10,
   "id": "85e7526b",
   "metadata": {},
   "outputs": [
    {
     "data": {
      "text/html": [
       "<div>\n",
       "<style scoped>\n",
       "    .dataframe tbody tr th:only-of-type {\n",
       "        vertical-align: middle;\n",
       "    }\n",
       "\n",
       "    .dataframe tbody tr th {\n",
       "        vertical-align: top;\n",
       "    }\n",
       "\n",
       "    .dataframe thead th {\n",
       "        text-align: right;\n",
       "    }\n",
       "</style>\n",
       "<table border=\"1\" class=\"dataframe\">\n",
       "  <thead>\n",
       "    <tr style=\"text-align: right;\">\n",
       "      <th></th>\n",
       "      <th>Comapany_name</th>\n",
       "      <th>Rating</th>\n",
       "      <th>Sector</th>\n",
       "      <th>Domain</th>\n",
       "      <th>Employees</th>\n",
       "      <th>Age</th>\n",
       "      <th>Location</th>\n",
       "    </tr>\n",
       "  </thead>\n",
       "  <tbody>\n",
       "  </tbody>\n",
       "</table>\n",
       "</div>"
      ],
      "text/plain": [
       "Empty DataFrame\n",
       "Columns: [Comapany_name, Rating, Sector, Domain, Employees, Age, Location]\n",
       "Index: []"
      ]
     },
     "execution_count": 10,
     "metadata": {},
     "output_type": "execute_result"
    }
   ],
   "source": [
    "df"
   ]
  },
  {
   "cell_type": "code",
   "execution_count": null,
   "id": "b2ab4bc6",
   "metadata": {},
   "outputs": [],
   "source": [
    "final = pd.DataFrame()\n",
    "for data in range(1, 70):\n",
    "    headers = {'User-Agent': 'Mozilla/5.0 (Windows NT 6.3; Win64; x64) AppleWebKit/537.36 (KHTML, like Gecko) Chrome/80.0.3987.162 Safari/537.36'}\n",
    "    url = 'https://www.ambitionbox.com/list-of-companies?sortBy=popular&page={}'.format(data)\n",
    "    webPage = requests.get(url, headers = headers).text\n",
    "    soup = Be(webPage, 'lxml')\n",
    "    name = []\n",
    "    rating = []\n",
    "    about = []\n",
    "    sec =[]\n",
    "    Location = []\n",
    "    Employes = []\n",
    "    Age = []\n",
    "    domain=[]\n",
    "    CEO = []\n",
    "    for i in soup.find_all('div', class_ = 'companyCardWrapper'):\n",
    "        company_name = i.find_all('h2', class_ = 'companyCardWrapper__companyName')\n",
    "        name.append(company_name[0].text.strip())\n",
    "        rating_value = i.find_all('span', class_ = 'companyCardWrapper__companyRatingValue')\n",
    "        rating.append(rating_value[0].text)\n",
    "        info = i.find_all('span', class_ = 'companyCardWrapper__interLinking')\n",
    "        about.append(info[0].text.strip())\n",
    "\n",
    "    for item in about:\n",
    "        parts = item.split('|')\n",
    "        if len(parts) >= 5:  \n",
    "            domain.append(parts[0].strip()) \n",
    "            Employes.append(parts[1].strip())  \n",
    "            sec.append(parts[2].strip())  \n",
    "            Age.append(parts[3].strip())  \n",
    "            Location.append(parts[4].strip())  \n",
    "        else:\n",
    "            domain.append('None')  \n",
    "            Employes.append('None') \n",
    "            Age.append('None')  \n",
    "            Location.append('None')  \n",
    "            sec.append('None')  \n",
    "            \n",
    "    d = {'Comapany_name': name, 'Rating': rating, 'Sector':sec, 'Domain':domain,'Employees':Employes,'Age':Age, 'Location':Location}\n",
    "    df = pd.DataFrame(d) \n",
    "    final = pd.concat([final, df], ignore_index=True)"
   ]
  },
  {
   "cell_type": "code",
   "execution_count": null,
   "id": "dca15796",
   "metadata": {},
   "outputs": [],
   "source": [
    "final = pd.DataFrame(final)"
   ]
  },
  {
   "cell_type": "code",
   "execution_count": null,
   "id": "c7843ad2",
   "metadata": {},
   "outputs": [],
   "source": [
    "final.shape"
   ]
  },
  {
   "cell_type": "code",
   "execution_count": null,
   "id": "40b3afce",
   "metadata": {},
   "outputs": [],
   "source": [
    "final.to_csv('Comapnies.csv')"
   ]
  },
  {
   "cell_type": "code",
   "execution_count": null,
   "id": "681360b6",
   "metadata": {},
   "outputs": [],
   "source": [
    "final"
   ]
  },
  {
   "cell_type": "code",
   "execution_count": null,
   "id": "95252551",
   "metadata": {},
   "outputs": [],
   "source": [
    "df = pd.read_csv('Comapnies.csv')"
   ]
  },
  {
   "cell_type": "code",
   "execution_count": null,
   "id": "0688bd86",
   "metadata": {},
   "outputs": [],
   "source": []
  }
 ],
 "metadata": {
  "kernelspec": {
   "display_name": "Python 3 (ipykernel)",
   "language": "python",
   "name": "python3"
  },
  "language_info": {
   "codemirror_mode": {
    "name": "ipython",
    "version": 3
   },
   "file_extension": ".py",
   "mimetype": "text/x-python",
   "name": "python",
   "nbconvert_exporter": "python",
   "pygments_lexer": "ipython3",
   "version": "3.11.5"
  }
 },
 "nbformat": 4,
 "nbformat_minor": 5
}
